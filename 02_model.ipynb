{
 "cells": [
  {
   "cell_type": "markdown",
   "id": "f1e2a93c-2045-4ece-b569-5370a55796b1",
   "metadata": {},
   "source": [
    "# Threat and Anomaly Detection\n",
    "\n",
    "I have used a unsupervised machine learning model (Isolation Forest) to find unusual network activity.\n",
    "\n",
    "Since I do not have labeled data for intrusions or threats, this method will help us identify patterns that stand out based on behavior — like very high traffic or rare IP combinations.\n"
   ]
  },
  {
   "cell_type": "code",
   "execution_count": null,
   "id": "672fb8dd-7f7e-47b1-86b0-a555736c626b",
   "metadata": {},
   "outputs": [
    {
     "data": {
      "text/html": [
       "<div>\n",
       "<style scoped>\n",
       "    .dataframe tbody tr th:only-of-type {\n",
       "        vertical-align: middle;\n",
       "    }\n",
       "\n",
       "    .dataframe tbody tr th {\n",
       "        vertical-align: top;\n",
       "    }\n",
       "\n",
       "    .dataframe thead th {\n",
       "        text-align: right;\n",
       "    }\n",
       "</style>\n",
       "<table border=\"1\" class=\"dataframe\">\n",
       "  <thead>\n",
       "    <tr style=\"text-align: right;\">\n",
       "      <th></th>\n",
       "      <th>timestamp</th>\n",
       "      <th>src_ip</th>\n",
       "      <th>dst_ip</th>\n",
       "      <th>bytes_sent</th>\n",
       "      <th>bytes_received</th>\n",
       "      <th>action</th>\n",
       "      <th>application</th>\n",
       "      <th>url_category</th>\n",
       "      <th>user_id</th>\n",
       "      <th>total_traffic_byte</th>\n",
       "    </tr>\n",
       "  </thead>\n",
       "  <tbody>\n",
       "    <tr>\n",
       "      <th>66527</th>\n",
       "      <td>2025-08-11 11:00:00</td>\n",
       "      <td>10.0.135.112</td>\n",
       "      <td>172.16.192.192</td>\n",
       "      <td>21252.0</td>\n",
       "      <td>21087.0</td>\n",
       "      <td>allow</td>\n",
       "      <td>ftp</td>\n",
       "      <td>news</td>\n",
       "      <td>user306</td>\n",
       "      <td>42339.0</td>\n",
       "    </tr>\n",
       "    <tr>\n",
       "      <th>66528</th>\n",
       "      <td>2025-08-11 12:00:00</td>\n",
       "      <td>10.0.73.163</td>\n",
       "      <td>172.16.35.73</td>\n",
       "      <td>74696.0</td>\n",
       "      <td>85451.0</td>\n",
       "      <td>allow</td>\n",
       "      <td>ssl</td>\n",
       "      <td>unknown</td>\n",
       "      <td>user228</td>\n",
       "      <td>160147.0</td>\n",
       "    </tr>\n",
       "    <tr>\n",
       "      <th>66529</th>\n",
       "      <td>2025-08-11 13:00:00</td>\n",
       "      <td>10.0.192.1</td>\n",
       "      <td>172.16.130.86</td>\n",
       "      <td>81963.0</td>\n",
       "      <td>97926.0</td>\n",
       "      <td>allow</td>\n",
       "      <td>snmp</td>\n",
       "      <td>news</td>\n",
       "      <td>user24</td>\n",
       "      <td>179889.0</td>\n",
       "    </tr>\n",
       "    <tr>\n",
       "      <th>66530</th>\n",
       "      <td>2025-08-11 14:00:00</td>\n",
       "      <td>10.0.140.253</td>\n",
       "      <td>172.16.6.215</td>\n",
       "      <td>67884.0</td>\n",
       "      <td>75313.0</td>\n",
       "      <td>allow</td>\n",
       "      <td>web-browsing</td>\n",
       "      <td>malware</td>\n",
       "      <td>user553</td>\n",
       "      <td>143197.0</td>\n",
       "    </tr>\n",
       "    <tr>\n",
       "      <th>66531</th>\n",
       "      <td>2025-08-11 15:00:00</td>\n",
       "      <td>10.0.71.72</td>\n",
       "      <td>172.16.186.133</td>\n",
       "      <td>49910.0</td>\n",
       "      <td>9898.0</td>\n",
       "      <td>allow</td>\n",
       "      <td>snmp</td>\n",
       "      <td>malware</td>\n",
       "      <td>user255</td>\n",
       "      <td>59808.0</td>\n",
       "    </tr>\n",
       "  </tbody>\n",
       "</table>\n",
       "</div>"
      ],
      "text/plain": [
       "                timestamp        src_ip          dst_ip  bytes_sent  \\\n",
       "66527 2025-08-11 11:00:00  10.0.135.112  172.16.192.192     21252.0   \n",
       "66528 2025-08-11 12:00:00   10.0.73.163    172.16.35.73     74696.0   \n",
       "66529 2025-08-11 13:00:00    10.0.192.1   172.16.130.86     81963.0   \n",
       "66530 2025-08-11 14:00:00  10.0.140.253    172.16.6.215     67884.0   \n",
       "66531 2025-08-11 15:00:00    10.0.71.72  172.16.186.133     49910.0   \n",
       "\n",
       "       bytes_received action   application url_category  user_id  \\\n",
       "66527         21087.0  allow           ftp         news  user306   \n",
       "66528         85451.0  allow           ssl      unknown  user228   \n",
       "66529         97926.0  allow          snmp         news   user24   \n",
       "66530         75313.0  allow  web-browsing      malware  user553   \n",
       "66531          9898.0  allow          snmp      malware  user255   \n",
       "\n",
       "       total_traffic_byte  \n",
       "66527             42339.0  \n",
       "66528            160147.0  \n",
       "66529            179889.0  \n",
       "66530            143197.0  \n",
       "66531             59808.0  "
      ]
     },
     "execution_count": 11,
     "metadata": {},
     "output_type": "execute_result"
    }
   ],
   "source": [
    "import pandas as pd\n",
    "from pathlib import Path\n",
    "\n",
    "DATA_DIR = Path(\"data\")\n",
    "df = pd.read_csv(DATA_DIR / \"combined_firewall.csv\", parse_dates=[\"timestamp\"])\n",
    "df[\"timestamp\"] = df[\"timestamp\"].dt.tz_localize(None)\n",
    "df.tail()\n"
   ]
  },
  {
   "cell_type": "markdown",
   "id": "89239744-48a2-43af-886a-03766934881f",
   "metadata": {},
   "source": [
    "## Feature Selection\n",
    "\n",
    "We'll start with a simple set of numeric features:\n",
    "- `bytes_sent`\n",
    "- `bytes_received`\n",
    "\n",
    "These represent how much data is going out and coming in.  \n",
    "We’ll later add more features if needed."
   ]
  },
  {
   "cell_type": "code",
   "execution_count": 12,
   "id": "2780b06b-d674-4aee-9696-eb475cd8c791",
   "metadata": {},
   "outputs": [],
   "source": [
    "df[\"bytes_sent\"] = df[\"bytes_sent\"].fillna(0)\n",
    "df[\"bytes_received\"] = df[\"bytes_received\"].fillna(0)"
   ]
  },
  {
   "cell_type": "code",
   "execution_count": 13,
   "id": "1185335b-6a65-41a4-899f-21b20ada604e",
   "metadata": {},
   "outputs": [],
   "source": [
    "if \"total_traffic_bytes\" not in df.columns:\n",
    "    df[\"total_traffic_bytes\"] = df[\"bytes_sent\"] + df[\"bytes_received\"]\n",
    "df[\"hour_of_day\"] = df[\"timestamp\"].dt.hour\n",
    "num_features = [\"bytes_sent\", \"bytes_received\", \"total_traffic_bytes\", \"hour_of_day\"]\n",
    "X = df[num_features].fillna(0)"
   ]
  },
  {
   "cell_type": "markdown",
   "id": "e7095b7a-6614-4831-a105-f0d622dcc853",
   "metadata": {},
   "source": [
    "## Feature Scaling\n",
    "We scale the features so that large values (like bytes) do not overpower the model."
   ]
  },
  {
   "cell_type": "code",
   "execution_count": 14,
   "id": "ca6a1d74-e8c7-44c6-a945-0221e5fb2cdf",
   "metadata": {},
   "outputs": [],
   "source": [
    "from sklearn.preprocessing import StandardScaler\n",
    "scaler = StandardScaler()\n",
    "X_scaled = scaler.fit_transform(X)"
   ]
  },
  {
   "cell_type": "code",
   "execution_count": 15,
   "id": "50566faf-e736-4c22-a093-e3d812961bbf",
   "metadata": {},
   "outputs": [
    {
     "data": {
      "text/plain": [
       "array([[-0.10587809, -0.10733896, -0.11391339, -1.66107401],\n",
       "       [-0.10587809, -0.10733896, -0.11391339, -1.51660711],\n",
       "       [-0.10587809, -0.10733896, -0.11391339, -1.37214021],\n",
       "       ...,\n",
       "       [11.69475434, 13.85847144, 13.65711127,  0.21699565],\n",
       "       [ 9.66772868, 10.63349676, 10.84823226,  0.36146255],\n",
       "       [ 7.07991994,  1.3042738 ,  4.46456246,  0.50592945]],\n",
       "      shape=(66532, 4))"
      ]
     },
     "execution_count": 15,
     "metadata": {},
     "output_type": "execute_result"
    }
   ],
   "source": [
    "X_scaled"
   ]
  },
  {
   "cell_type": "markdown",
   "id": "f1a1123c-ccce-4c8b-8060-5befc36d15b0",
   "metadata": {},
   "source": [
    "As a initial step i want to surface the records that are unusal for this im not choosing heavy trained model\n",
    "I simply choose \"Isolation Forest\" for easiness"
   ]
  },
  {
   "cell_type": "code",
   "execution_count": 16,
   "id": "e3d5d550-1dc3-4256-a678-7e166c443040",
   "metadata": {},
   "outputs": [],
   "source": [
    "from pyod.models.iforest import IForest\n",
    "\n",
    "model = IForest(contamination=0.02, random_state=42)\n",
    "model.fit(X_scaled)\n",
    "\n",
    "df[\"anomaly\"] = model.predict(X_scaled)\n",
    "df[\"anomaly_score\"] = model.decision_function(X_scaled)"
   ]
  },
  {
   "cell_type": "code",
   "execution_count": 17,
   "id": "e08e3d5b-e48c-4eea-a215-bcde1fa1ec79",
   "metadata": {},
   "outputs": [
    {
     "data": {
      "text/html": [
       "<div>\n",
       "<style scoped>\n",
       "    .dataframe tbody tr th:only-of-type {\n",
       "        vertical-align: middle;\n",
       "    }\n",
       "\n",
       "    .dataframe tbody tr th {\n",
       "        vertical-align: top;\n",
       "    }\n",
       "\n",
       "    .dataframe thead th {\n",
       "        text-align: right;\n",
       "    }\n",
       "</style>\n",
       "<table border=\"1\" class=\"dataframe\">\n",
       "  <thead>\n",
       "    <tr style=\"text-align: right;\">\n",
       "      <th></th>\n",
       "      <th>timestamp</th>\n",
       "      <th>src_ip</th>\n",
       "      <th>dst_ip</th>\n",
       "      <th>bytes_sent</th>\n",
       "      <th>bytes_received</th>\n",
       "      <th>action</th>\n",
       "      <th>application</th>\n",
       "      <th>url_category</th>\n",
       "      <th>user_id</th>\n",
       "      <th>total_traffic_byte</th>\n",
       "      <th>total_traffic_bytes</th>\n",
       "      <th>hour_of_day</th>\n",
       "      <th>anomaly</th>\n",
       "      <th>anomaly_score</th>\n",
       "    </tr>\n",
       "  </thead>\n",
       "  <tbody>\n",
       "    <tr>\n",
       "      <th>66527</th>\n",
       "      <td>2025-08-11 11:00:00</td>\n",
       "      <td>10.0.135.112</td>\n",
       "      <td>172.16.192.192</td>\n",
       "      <td>21252.0</td>\n",
       "      <td>21087.0</td>\n",
       "      <td>allow</td>\n",
       "      <td>ftp</td>\n",
       "      <td>news</td>\n",
       "      <td>user306</td>\n",
       "      <td>42339.0</td>\n",
       "      <td>42339.0</td>\n",
       "      <td>11</td>\n",
       "      <td>1</td>\n",
       "      <td>0.160813</td>\n",
       "    </tr>\n",
       "    <tr>\n",
       "      <th>66528</th>\n",
       "      <td>2025-08-11 12:00:00</td>\n",
       "      <td>10.0.73.163</td>\n",
       "      <td>172.16.35.73</td>\n",
       "      <td>74696.0</td>\n",
       "      <td>85451.0</td>\n",
       "      <td>allow</td>\n",
       "      <td>ssl</td>\n",
       "      <td>unknown</td>\n",
       "      <td>user228</td>\n",
       "      <td>160147.0</td>\n",
       "      <td>160147.0</td>\n",
       "      <td>12</td>\n",
       "      <td>1</td>\n",
       "      <td>0.294940</td>\n",
       "    </tr>\n",
       "    <tr>\n",
       "      <th>66529</th>\n",
       "      <td>2025-08-11 13:00:00</td>\n",
       "      <td>10.0.192.1</td>\n",
       "      <td>172.16.130.86</td>\n",
       "      <td>81963.0</td>\n",
       "      <td>97926.0</td>\n",
       "      <td>allow</td>\n",
       "      <td>snmp</td>\n",
       "      <td>news</td>\n",
       "      <td>user24</td>\n",
       "      <td>179889.0</td>\n",
       "      <td>179889.0</td>\n",
       "      <td>13</td>\n",
       "      <td>1</td>\n",
       "      <td>0.297328</td>\n",
       "    </tr>\n",
       "    <tr>\n",
       "      <th>66530</th>\n",
       "      <td>2025-08-11 14:00:00</td>\n",
       "      <td>10.0.140.253</td>\n",
       "      <td>172.16.6.215</td>\n",
       "      <td>67884.0</td>\n",
       "      <td>75313.0</td>\n",
       "      <td>allow</td>\n",
       "      <td>web-browsing</td>\n",
       "      <td>malware</td>\n",
       "      <td>user553</td>\n",
       "      <td>143197.0</td>\n",
       "      <td>143197.0</td>\n",
       "      <td>14</td>\n",
       "      <td>1</td>\n",
       "      <td>0.286194</td>\n",
       "    </tr>\n",
       "    <tr>\n",
       "      <th>66531</th>\n",
       "      <td>2025-08-11 15:00:00</td>\n",
       "      <td>10.0.71.72</td>\n",
       "      <td>172.16.186.133</td>\n",
       "      <td>49910.0</td>\n",
       "      <td>9898.0</td>\n",
       "      <td>allow</td>\n",
       "      <td>snmp</td>\n",
       "      <td>malware</td>\n",
       "      <td>user255</td>\n",
       "      <td>59808.0</td>\n",
       "      <td>59808.0</td>\n",
       "      <td>15</td>\n",
       "      <td>1</td>\n",
       "      <td>0.174371</td>\n",
       "    </tr>\n",
       "  </tbody>\n",
       "</table>\n",
       "</div>"
      ],
      "text/plain": [
       "                timestamp        src_ip          dst_ip  bytes_sent  \\\n",
       "66527 2025-08-11 11:00:00  10.0.135.112  172.16.192.192     21252.0   \n",
       "66528 2025-08-11 12:00:00   10.0.73.163    172.16.35.73     74696.0   \n",
       "66529 2025-08-11 13:00:00    10.0.192.1   172.16.130.86     81963.0   \n",
       "66530 2025-08-11 14:00:00  10.0.140.253    172.16.6.215     67884.0   \n",
       "66531 2025-08-11 15:00:00    10.0.71.72  172.16.186.133     49910.0   \n",
       "\n",
       "       bytes_received action   application url_category  user_id  \\\n",
       "66527         21087.0  allow           ftp         news  user306   \n",
       "66528         85451.0  allow           ssl      unknown  user228   \n",
       "66529         97926.0  allow          snmp         news   user24   \n",
       "66530         75313.0  allow  web-browsing      malware  user553   \n",
       "66531          9898.0  allow          snmp      malware  user255   \n",
       "\n",
       "       total_traffic_byte  total_traffic_bytes  hour_of_day  anomaly  \\\n",
       "66527             42339.0              42339.0           11        1   \n",
       "66528            160147.0             160147.0           12        1   \n",
       "66529            179889.0             179889.0           13        1   \n",
       "66530            143197.0             143197.0           14        1   \n",
       "66531             59808.0              59808.0           15        1   \n",
       "\n",
       "       anomaly_score  \n",
       "66527       0.160813  \n",
       "66528       0.294940  \n",
       "66529       0.297328  \n",
       "66530       0.286194  \n",
       "66531       0.174371  "
      ]
     },
     "execution_count": 17,
     "metadata": {},
     "output_type": "execute_result"
    }
   ],
   "source": [
    "df.tail()"
   ]
  },
  {
   "cell_type": "markdown",
   "id": "4b61daa7-37ff-404b-b3f2-b243d5b4f138",
   "metadata": {},
   "source": [
    "### Sanity Check"
   ]
  },
  {
   "cell_type": "markdown",
   "id": "094b83c1-336a-4372-addd-39a06ddfae4e",
   "metadata": {},
   "source": [
    "As for i know if a firewall dropped or denied traffic that could be suspicious activity but we dont have any labelled attacks \n",
    "so we have a action column we can compare the deny or drop rows with this anamoly score"
   ]
  },
  {
   "cell_type": "code",
   "execution_count": 18,
   "id": "6ff1a0f1-21ff-4464-8526-a9da05cda2ac",
   "metadata": {},
   "outputs": [
    {
     "name": "stdout",
     "output_type": "stream",
     "text": [
      "Precision: 0.15\n",
      "Recall   : 1.00\n",
      "F1‑score : 0.26\n"
     ]
    }
   ],
   "source": [
    "from sklearn.metrics import precision_recall_fscore_support\n",
    "\n",
    "proxy_y = df[\"action\"].isin([\"deny\", \"drop\"]).astype(int)\n",
    "precision, recall, f1, _ = precision_recall_fscore_support(proxy_y, df[\"anomaly\"], average=\"binary\")\n",
    "\n",
    "print(f\"Precision: {precision:.2f}\")\n",
    "print(f\"Recall   : {recall:.2f}\")\n",
    "print(f\"F1‑score : {f1:.2f}\")"
   ]
  },
  {
   "cell_type": "markdown",
   "id": "31a52bf7-c123-4d3c-b4e9-b68e21a99044",
   "metadata": {},
   "source": [
    "above data is not really a accuracy but it just outliers how well it aligned with firewal already tagged it as drop or deny"
   ]
  },
  {
   "cell_type": "code",
   "execution_count": null,
   "id": "2c0f25ef-1273-4168-b56c-44cd1b1b5428",
   "metadata": {},
   "outputs": [
    {
     "name": "stdout",
     "output_type": "stream",
     "text": [
      "\n",
      "Saved artefacts:\n",
      "model.joblib → <class 'pyod.models.iforest.IForest'>\n",
      "scaler.joblib → <class 'sklearn.preprocessing._data.StandardScaler'>\n"
     ]
    }
   ],
   "source": [
    "import joblib\n",
    "joblib.dump(model, \"model.joblib\")\n",
    "joblib.dump(scaler, \"scaler.joblib\")\n",
    "print(\"\\nSaved artefacts:\")\n",
    "for fname in (\"model.joblib\", \"scaler.joblib\"):\n",
    "    obj = joblib.load(fname)\n",
    "    print(f\"{fname} →\", type(obj))"
   ]
  },
  {
   "cell_type": "code",
   "execution_count": 20,
   "id": "d09232ad-ec80-4e7a-be22-e832f8c59a2e",
   "metadata": {},
   "outputs": [
    {
     "name": "stdout",
     "output_type": "stream",
     "text": [
      "Model Type: <class 'pyod.models.iforest.IForest'>\n",
      "Model: IForest(behaviour='old', bootstrap=False, contamination=0.02,\n",
      "    max_features=1.0, max_samples='auto', n_estimators=100, n_jobs=1,\n",
      "    random_state=42, verbose=0)\n",
      "Model Parameters: {'behaviour': 'old', 'bootstrap': False, 'contamination': 0.02, 'max_features': 1.0, 'max_samples': 'auto', 'n_estimators': 100, 'n_jobs': 1, 'random_state': 42, 'verbose': 0}\n"
     ]
    }
   ],
   "source": [
    "import joblib\n",
    "model_or_data = joblib.load(\"./model.joblib\")\n",
    "print(\"Model Type:\", type(model_or_data))\n",
    "print(\"Model:\", model_or_data)\n",
    "print(\"Model Parameters:\", model_or_data.get_params())"
   ]
  },
  {
   "cell_type": "code",
   "execution_count": 21,
   "id": "e2fe3c36-0e49-45a2-a18f-768a8fccc577",
   "metadata": {},
   "outputs": [
    {
     "name": "stdout",
     "output_type": "stream",
     "text": [
      "Model Type: <class 'sklearn.preprocessing._data.StandardScaler'>\n",
      "Model: StandardScaler()\n",
      "Model Parameters: {'copy': True, 'with_mean': True, 'with_std': True}\n"
     ]
    }
   ],
   "source": [
    "import joblib\n",
    "model_or_data = joblib.load(\"./scaler.joblib\")\n",
    "print(\"Model Type:\", type(model_or_data))\n",
    "print(\"Model:\", model_or_data)\n",
    "print(\"Model Parameters:\", model_or_data.get_params())"
   ]
  },
  {
   "cell_type": "code",
   "execution_count": null,
   "id": "f7a11d72-f10e-463f-bf49-c0a8d74a3120",
   "metadata": {},
   "outputs": [],
   "source": []
  }
 ],
 "metadata": {
  "kernelspec": {
   "display_name": "Python 3 (ipykernel)",
   "language": "python",
   "name": "python3"
  },
  "language_info": {
   "codemirror_mode": {
    "name": "ipython",
    "version": 3
   },
   "file_extension": ".py",
   "mimetype": "text/x-python",
   "name": "python",
   "nbconvert_exporter": "python",
   "pygments_lexer": "ipython3",
   "version": "3.10.11"
  }
 },
 "nbformat": 4,
 "nbformat_minor": 5
}
